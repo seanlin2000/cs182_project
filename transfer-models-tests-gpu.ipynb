{
 "cells": [
  {
   "cell_type": "code",
   "execution_count": 4,
   "id": "skilled-vehicle",
   "metadata": {},
   "outputs": [],
   "source": [
    "from __future__ import print_function, division\n",
    "\n",
    "# import sys\n",
    "# sys.path.append(root_folder)\n",
    "import torch\n",
    "import torch.nn as nn\n",
    "import torch.optim as optim\n",
    "from torch.optim import lr_scheduler\n",
    "import torch.nn.functional as F\n",
    "import numpy as np\n",
    "import torchvision\n",
    "from torchvision import datasets, models, transforms\n",
    "import matplotlib.pyplot as plt\n",
    "import time\n",
    "import os\n",
    "import copy\n",
    "import pathlib\n",
    "\n",
    "from models.convengers import Thor, IronMan\n",
    "from models.solver import NickFury\n",
    "\n",
    "from utils import dictionary, visualizations\n",
    "\n",
    "import GPUtil\n",
    "\n",
    "plt.ion()   # interactive mode\n",
    "\n",
    "%load_ext autoreload\n",
    "%autoreload 2"
   ]
  },
  {
   "cell_type": "code",
   "execution_count": 6,
   "id": "intellectual-baltimore",
   "metadata": {},
   "outputs": [
    {
     "name": "stdout",
     "output_type": "stream",
     "text": [
      "| ID | GPU | MEM  |\n",
      "-------------------\n",
      "|  0 |  0% |  95% |\n",
      "|  1 |  0% | 100% |\n",
      "|  2 |  0% |  64% |\n",
      "|  3 | 99% |  95% |\n"
     ]
    }
   ],
   "source": [
    "GPUtil.showUtilization()"
   ]
  },
  {
   "cell_type": "code",
   "execution_count": null,
   "id": "surface-killer",
   "metadata": {},
   "outputs": [],
   "source": [
    "device = torch.device(\"cuda:2\" if torch.cuda.is_available() else \"cpu\")"
   ]
  },
  {
   "cell_type": "code",
   "execution_count": 3,
   "id": "postal-verification",
   "metadata": {},
   "outputs": [],
   "source": [
    "dataset_folder = \"data/tiny-imagenet-200/\"\n",
    "data_dir = pathlib.Path(dataset_folder)\n",
    "\n",
    "data_transforms = {\n",
    "    'train': transforms.Compose([\n",
    "        transforms.Resize(256),\n",
    "        transforms.RandomResizedCrop(224),\n",
    "        transforms.RandomHorizontalFlip(),\n",
    "        transforms.ToTensor(),\n",
    "        transforms.Normalize([0.485, 0.456, 0.406], [0.229, 0.224, 0.225])\n",
    "    ]),\n",
    "    'val': transforms.Compose([\n",
    "        transforms.Resize(256),\n",
    "        transforms.CenterCrop(224),\n",
    "        transforms.ToTensor(),\n",
    "        transforms.Normalize([0.485, 0.456, 0.406], [0.229, 0.224, 0.225])\n",
    "    ]),\n",
    "}"
   ]
  },
  {
   "cell_type": "code",
   "execution_count": 4,
   "id": "selected-talent",
   "metadata": {},
   "outputs": [],
   "source": [
    "image_datasets = {x: datasets.ImageFolder(data_dir / x, data_transforms[x]) for x in ['train', 'val']}\n",
    "dataloaders = {x: torch.utils.data.DataLoader(image_datasets[x], batch_size=20, shuffle=True, num_workers=4, pin_memory=False) for x in ['train', 'val']}\n",
    "dataset_sizes = {x: len(image_datasets[x]) for x in ['train', 'val']}\n",
    "class_names = image_datasets['train'].classes"
   ]
  },
  {
   "cell_type": "code",
   "execution_count": null,
   "id": "virtual-worst",
   "metadata": {},
   "outputs": [],
   "source": [
    "with torch.cuda.device(torch.cuda.current_device()):\n",
    "    torch.cuda.empty_cache()\n",
    "    \n",
    "resnet_new = Thor()\n",
    "resnet_new = resnet.to(device)\n",
    "ResNet_solver = NickFury(resnet_new, dataloaders, dataset_sizes)\n",
    "\n",
    "resnet_criterion = nn.CrossEntropyLoss()\n",
    "resnet_optimizer = optim.Adam(resnet_new.parameters(), lr=0.001)\n",
    "resnet_exp_lr_scheduler = lr_scheduler.StepLR(resnet_optimizer, step_size=7, gamma=0.1)"
   ]
  },
  {
   "cell_type": "code",
   "execution_count": 12,
   "id": "devoted-terminology",
   "metadata": {},
   "outputs": [],
   "source": [
    "with torch.cuda.device(torch.cuda.current_device()):\n",
    "    torch.cuda.empty_cache()\n",
    "    \n",
    "inception_new = IronMan()\n",
    "inception_new = inception_new.to(device)\n",
    "\n",
    "inception_solver = NickFury(inception_new, dataloaders, dataset_sizes)\n",
    "\n",
    "inception_criterion = nn.CrossEntropyLoss()\n",
    "inception_optimizer = optim.Adam(inception_new.parameters(), lr=0.001)\n",
    "inception_exp_lr_scheduler = lr_scheduler.StepLR(inception_optimizer, step_size=7, gamma=0.1)"
   ]
  },
  {
   "cell_type": "code",
   "execution_count": null,
   "id": "gentle-management",
   "metadata": {},
   "outputs": [],
   "source": [
    "resnet_loss_history = ResNet_solver.train(resnet_optimizer, resnet_criterion, resnet_exp_lr_scheduler)"
   ]
  },
  {
   "cell_type": "code",
   "execution_count": null,
   "id": "friendly-board",
   "metadata": {},
   "outputs": [],
   "source": [
    "inception_loss_history = ResNet_solver.train(inception_optimizer, inception_criterion, inception_exp_lr_scheduler)"
   ]
  },
  {
   "cell_type": "code",
   "execution_count": 22,
   "id": "sexual-three",
   "metadata": {},
   "outputs": [
    {
     "name": "stdout",
     "output_type": "stream",
     "text": [
      "tensor([145, 120,  44,  32,  68, 139, 148,  99,  29,  74, 102, 133, 150,  79,\n",
      "        156,  53, 131,  75,  69,  44])\n",
      "tensor([145, 120,  44,  16, 171, 139,  41,  99,  35, 158, 102, 121, 152,  79,\n",
      "        170,  53, 131,  84,  69,  44])\n",
      "tensor([ 64, 120,  44,  16, 171,  99,  11, 109,  35, 158, 102, 133,  16, 173,\n",
      "        143,  53, 177,  75,  69,  44])\n"
     ]
    }
   ],
   "source": [
    "images, labels = next(iter(dataloaders[\"val\"]))\n",
    "resnet_new.to(\"cpu\")\n",
    "inception_new.to(\"cpu\")\n",
    "with torch.no_grad():\n",
    "    resnet_preds = resnet_new(images)\n",
    "    inception_preds = inception_new(images)\n",
    "\n",
    "print(labels)\n",
    "print(torch.argmax(resnet_preds,dim=1))\n",
    "print(torch.argmax(inception_preds,dim=1))"
   ]
  },
  {
   "cell_type": "code",
   "execution_count": null,
   "id": "chinese-shark",
   "metadata": {},
   "outputs": [],
   "source": []
  }
 ],
 "metadata": {
  "kernelspec": {
   "display_name": "Python 3",
   "language": "python",
   "name": "python3"
  },
  "language_info": {
   "codemirror_mode": {
    "name": "ipython",
    "version": 3
   },
   "file_extension": ".py",
   "mimetype": "text/x-python",
   "name": "python",
   "nbconvert_exporter": "python",
   "pygments_lexer": "ipython3",
   "version": "3.8.8"
  }
 },
 "nbformat": 4,
 "nbformat_minor": 5
}
