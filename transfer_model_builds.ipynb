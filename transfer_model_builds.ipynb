{
 "cells": [
  {
   "cell_type": "code",
   "execution_count": 35,
   "id": "curious-sullivan",
   "metadata": {},
   "outputs": [
    {
     "name": "stdout",
     "output_type": "stream",
     "text": [
      "The autoreload extension is already loaded. To reload it, use:\n",
      "  %reload_ext autoreload\n"
     ]
    }
   ],
   "source": [
    "import torch\n",
    "import torch.nn as nn\n",
    "import torchvision\n",
    "import numpy as np\n",
    "import matplotlib.pyplot as pl\n",
    "from collections import OrderedDict\n",
    "\n",
    "from convengers import ResNet, Inception\n",
    "\n",
    "%load_ext autoreload\n",
    "%autoreload 2"
   ]
  },
  {
   "cell_type": "markdown",
   "id": "silver-blame",
   "metadata": {},
   "source": [
    "## A build of ResNet transferred"
   ]
  },
  {
   "cell_type": "code",
   "execution_count": 36,
   "id": "framed-henry",
   "metadata": {},
   "outputs": [],
   "source": [
    "new_resnet101 = ResNet(num_blocks=2, layer_cutoff=6)"
   ]
  },
  {
   "cell_type": "markdown",
   "id": "overall-airfare",
   "metadata": {},
   "source": [
    "## A build of Inception"
   ]
  },
  {
   "cell_type": "code",
   "execution_count": 37,
   "id": "natural-proceeding",
   "metadata": {},
   "outputs": [],
   "source": [
    "new_inception = Inception(num_blocks=2, layer_cutoff=17)"
   ]
  },
  {
   "cell_type": "code",
   "execution_count": null,
   "id": "stuffed-miracle",
   "metadata": {},
   "outputs": [],
   "source": []
  }
 ],
 "metadata": {
  "kernelspec": {
   "display_name": "Python 3",
   "language": "python",
   "name": "python3"
  },
  "language_info": {
   "codemirror_mode": {
    "name": "ipython",
    "version": 3
   },
   "file_extension": ".py",
   "mimetype": "text/x-python",
   "name": "python",
   "nbconvert_exporter": "python",
   "pygments_lexer": "ipython3",
   "version": "3.7.9"
  }
 },
 "nbformat": 4,
 "nbformat_minor": 5
}
